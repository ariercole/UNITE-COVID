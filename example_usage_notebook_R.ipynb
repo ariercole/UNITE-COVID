{
 "cells": [
  {
   "cell_type": "markdown",
   "metadata": {
    "id": "kA3mx_tPdJ0y"
   },
   "source": [
    "# UNITE-COVID data curation notebook (R-Kernel)\n",
    "\n",
    "## Version 3.1\n",
    "### 13th February 2022\n",
    "\n",
    "This describes the curation process. We use the finalised dataset \"UNITE_COVID_19_global_export-1Dec2020 CSV.csv\" \n",
    "as the source data / master dataframe. The working dataframe is 'working.df' and is updated by the curation script.\n",
    "\n",
    "\"UNITE_curation_dictionary.xlsx\" contains curation/explanatory notes.\n",
    "\n",
    "ESICM UNITE-COVID curation team\n",
    "- Ari Ercole (University of Cambridge: Cambridge, GB) ORCID: 0000-0001-8350-8093\n",
    "- Paul W Elbers (Amsterdam UMC: Amsterdam, NL) ORCID: 0000-0003-0447-6893\n",
    "- Harm-Jan de Grooth (VU University Medical Center: Amsterdam, NL) ORCID: 0000-0002-7499-076X\n",
    "- Thomas De Corte (Universiteit Gent: Gent, BE) ORCID: 0000-0001-5011-6640\n",
    "- Massimiliano Greco (Humanitas University, Rozzano, IT) ORCID: 0000-0003-1003-4637\n",
    "\n",
    "Coagulation free-text curation dictionaries\n",
    "- Andrea Lavinio (Cambridge University Hospitals NHS Foundation Trust: Cambridge, GB)\n",
    "- Ari Ercole (University of Cambridge: Cambridge, GB) ORCID: 0000-0001-8350-8093"
   ]
  },
  {
   "cell_type": "markdown",
   "metadata": {},
   "source": [
    "Usage: \n",
    "Add data file as \"./data/UNITE_COVID_19_global_export-1Dec2020.csv\"\n",
    "\n",
    "Dictionaries are in \"./dictionaries\"\n",
    "\n",
    "Then source the current pipline and execute the function get_data() which returns the curated dataset as a dataframe"
   ]
  },
  {
   "cell_type": "code",
   "execution_count": 2,
   "metadata": {
    "id": "_z_4o9e2dJXQ",
    "scrolled": false
   },
   "outputs": [
    {
     "name": "stderr",
     "output_type": "stream",
     "text": [
      "Warning message in get_data():\n",
      "“NAs introduced by coercion”\n",
      "Warning message in as.numeric(working.df$INF_ANTIBIO1_INT) %in% validAbx:\n",
      "“NAs introduced by coercion”\n"
     ]
    }
   ],
   "source": [
    "source(\"curation_pipeline_version_3_1.R\")\n",
    "\n",
    "data.df <- get_data()"
   ]
  },
  {
   "cell_type": "markdown",
   "metadata": {
    "id": "vy7TabwENLGG"
   },
   "source": [
    "**UNITE-COVID data curation notebook (R-Kernel)**\n"
   ]
  },
  {
   "cell_type": "code",
   "execution_count": 3,
   "metadata": {
    "id": "ti8K3FXadbVm"
   },
   "outputs": [
    {
     "data": {
      "text/html": [
       "<table class=\"dataframe\">\n",
       "<caption>A data.frame: 6 × 197</caption>\n",
       "<thead>\n",
       "\t<tr><th></th><th scope=col>NEW_COUNTRY_ID</th><th scope=col>NEW_SITE_ID</th><th scope=col>NEW_SUBJECT_ID</th><th scope=col>Iteration</th><th scope=col>INC_CRIT1_YN</th><th scope=col>INC_CRIT2_YN</th><th scope=col>INC_CRIT3_YN</th><th scope=col>INC_CRIT4_YN</th><th scope=col>INC_SEX_RAD</th><th scope=col>INC_AGE_INT</th><th scope=col>⋯</th><th scope=col>OUT_ICU_DURATION_INT</th><th scope=col>OUT_DEAD_DURING_ICU_YN</th><th scope=col>OUT_HOSP_DURATION_INT</th><th scope=col>OUT_DISCHARGE_RRT_YN</th><th scope=col>OUT_DEATH_DURING_ICU_YN....</th><th scope=col>INF_WITHOUT_ANTIMIC_INT</th><th scope=col>OUT_DEATH_DURING_ICU_YN</th><th scope=col>NEW_BMI</th><th scope=col>NEW_COAG_DVT_DAILY_DOSE</th><th scope=col>NEW_COAG_ANTIPLAT_DAILY_DOSE</th></tr>\n",
       "\t<tr><th></th><th scope=col>&lt;fct&gt;</th><th scope=col>&lt;fct&gt;</th><th scope=col>&lt;fct&gt;</th><th scope=col>&lt;int&gt;</th><th scope=col>&lt;fct&gt;</th><th scope=col>&lt;fct&gt;</th><th scope=col>&lt;fct&gt;</th><th scope=col>&lt;fct&gt;</th><th scope=col>&lt;fct&gt;</th><th scope=col>&lt;int&gt;</th><th scope=col>⋯</th><th scope=col>&lt;int&gt;</th><th scope=col>&lt;fct&gt;</th><th scope=col>&lt;int&gt;</th><th scope=col>&lt;fct&gt;</th><th scope=col>&lt;chr&gt;</th><th scope=col>&lt;int&gt;</th><th scope=col>&lt;fct&gt;</th><th scope=col>&lt;dbl&gt;</th><th scope=col>&lt;dbl&gt;</th><th scope=col>&lt;dbl&gt;</th></tr>\n",
       "</thead>\n",
       "<tbody>\n",
       "\t<tr><th scope=row>1</th><td>01</td><td>03</td><td>01</td><td>1</td><td>TRUE</td><td>TRUE</td><td>TRUE</td><td>FALSE</td><td>Male  </td><td>67</td><td>⋯</td><td>61</td><td>NA  </td><td>NA</td><td>NA</td><td>,,,, </td><td>40</td><td>NA  </td><td>24.22145</td><td> 6000</td><td> NA</td></tr>\n",
       "\t<tr><th scope=row>2</th><td>01</td><td>03</td><td>02</td><td>1</td><td>TRUE</td><td>TRUE</td><td>TRUE</td><td>FALSE</td><td>Male  </td><td>47</td><td>⋯</td><td> 9</td><td>TRUE</td><td>NA</td><td>NA</td><td>1,,,,</td><td> 0</td><td>TRUE</td><td>26.29758</td><td> 6000</td><td> NA</td></tr>\n",
       "\t<tr><th scope=row>3</th><td>01</td><td>03</td><td>03</td><td>1</td><td>TRUE</td><td>TRUE</td><td>TRUE</td><td>FALSE</td><td>Male  </td><td>66</td><td>⋯</td><td> 9</td><td>TRUE</td><td>NA</td><td>NA</td><td>1,,,,</td><td>16</td><td>TRUE</td><td>27.75510</td><td> 6000</td><td> NA</td></tr>\n",
       "\t<tr><th scope=row>4</th><td>01</td><td>03</td><td>04</td><td>1</td><td>TRUE</td><td>TRUE</td><td>TRUE</td><td>FALSE</td><td>Male  </td><td>65</td><td>⋯</td><td>14</td><td>TRUE</td><td>NA</td><td>NA</td><td>1,,,,</td><td> 0</td><td>TRUE</td><td>29.41176</td><td> 6000</td><td> NA</td></tr>\n",
       "\t<tr><th scope=row>5</th><td>01</td><td>03</td><td>05</td><td>1</td><td>TRUE</td><td>TRUE</td><td>TRUE</td><td>FALSE</td><td>Female</td><td>63</td><td>⋯</td><td>40</td><td>NA  </td><td>53</td><td>NA</td><td>,,,, </td><td> 9</td><td>NA  </td><td>23.87511</td><td> 6000</td><td> NA</td></tr>\n",
       "\t<tr><th scope=row>6</th><td>01</td><td>06</td><td>01</td><td>1</td><td>TRUE</td><td>TRUE</td><td>TRUE</td><td>FALSE</td><td>Female</td><td>84</td><td>⋯</td><td>NA</td><td>NA  </td><td>NA</td><td>NA</td><td>,,,, </td><td>NA</td><td>NA  </td><td>24.24242</td><td>12000</td><td>125</td></tr>\n",
       "</tbody>\n",
       "</table>\n"
      ],
      "text/latex": [
       "A data.frame: 6 × 197\n",
       "\\begin{tabular}{r|lllllllllllllllllllll}\n",
       "  & NEW\\_COUNTRY\\_ID & NEW\\_SITE\\_ID & NEW\\_SUBJECT\\_ID & Iteration & INC\\_CRIT1\\_YN & INC\\_CRIT2\\_YN & INC\\_CRIT3\\_YN & INC\\_CRIT4\\_YN & INC\\_SEX\\_RAD & INC\\_AGE\\_INT & ⋯ & OUT\\_ICU\\_DURATION\\_INT & OUT\\_DEAD\\_DURING\\_ICU\\_YN & OUT\\_HOSP\\_DURATION\\_INT & OUT\\_DISCHARGE\\_RRT\\_YN & OUT\\_DEATH\\_DURING\\_ICU\\_YN.... & INF\\_WITHOUT\\_ANTIMIC\\_INT & OUT\\_DEATH\\_DURING\\_ICU\\_YN & NEW\\_BMI & NEW\\_COAG\\_DVT\\_DAILY\\_DOSE & NEW\\_COAG\\_ANTIPLAT\\_DAILY\\_DOSE\\\\\n",
       "  & <fct> & <fct> & <fct> & <int> & <fct> & <fct> & <fct> & <fct> & <fct> & <int> & ⋯ & <int> & <fct> & <int> & <fct> & <chr> & <int> & <fct> & <dbl> & <dbl> & <dbl>\\\\\n",
       "\\hline\n",
       "\t1 & 01 & 03 & 01 & 1 & TRUE & TRUE & TRUE & FALSE & Male   & 67 & ⋯ & 61 & NA   & NA & NA & ,,,,  & 40 & NA   & 24.22145 &  6000 &  NA\\\\\n",
       "\t2 & 01 & 03 & 02 & 1 & TRUE & TRUE & TRUE & FALSE & Male   & 47 & ⋯ &  9 & TRUE & NA & NA & 1,,,, &  0 & TRUE & 26.29758 &  6000 &  NA\\\\\n",
       "\t3 & 01 & 03 & 03 & 1 & TRUE & TRUE & TRUE & FALSE & Male   & 66 & ⋯ &  9 & TRUE & NA & NA & 1,,,, & 16 & TRUE & 27.75510 &  6000 &  NA\\\\\n",
       "\t4 & 01 & 03 & 04 & 1 & TRUE & TRUE & TRUE & FALSE & Male   & 65 & ⋯ & 14 & TRUE & NA & NA & 1,,,, &  0 & TRUE & 29.41176 &  6000 &  NA\\\\\n",
       "\t5 & 01 & 03 & 05 & 1 & TRUE & TRUE & TRUE & FALSE & Female & 63 & ⋯ & 40 & NA   & 53 & NA & ,,,,  &  9 & NA   & 23.87511 &  6000 &  NA\\\\\n",
       "\t6 & 01 & 06 & 01 & 1 & TRUE & TRUE & TRUE & FALSE & Female & 84 & ⋯ & NA & NA   & NA & NA & ,,,,  & NA & NA   & 24.24242 & 12000 & 125\\\\\n",
       "\\end{tabular}\n"
      ],
      "text/markdown": [
       "\n",
       "A data.frame: 6 × 197\n",
       "\n",
       "| <!--/--> | NEW_COUNTRY_ID &lt;fct&gt; | NEW_SITE_ID &lt;fct&gt; | NEW_SUBJECT_ID &lt;fct&gt; | Iteration &lt;int&gt; | INC_CRIT1_YN &lt;fct&gt; | INC_CRIT2_YN &lt;fct&gt; | INC_CRIT3_YN &lt;fct&gt; | INC_CRIT4_YN &lt;fct&gt; | INC_SEX_RAD &lt;fct&gt; | INC_AGE_INT &lt;int&gt; | ⋯ ⋯ | OUT_ICU_DURATION_INT &lt;int&gt; | OUT_DEAD_DURING_ICU_YN &lt;fct&gt; | OUT_HOSP_DURATION_INT &lt;int&gt; | OUT_DISCHARGE_RRT_YN &lt;fct&gt; | OUT_DEATH_DURING_ICU_YN.... &lt;chr&gt; | INF_WITHOUT_ANTIMIC_INT &lt;int&gt; | OUT_DEATH_DURING_ICU_YN &lt;fct&gt; | NEW_BMI &lt;dbl&gt; | NEW_COAG_DVT_DAILY_DOSE &lt;dbl&gt; | NEW_COAG_ANTIPLAT_DAILY_DOSE &lt;dbl&gt; |\n",
       "|---|---|---|---|---|---|---|---|---|---|---|---|---|---|---|---|---|---|---|---|---|---|\n",
       "| 1 | 01 | 03 | 01 | 1 | TRUE | TRUE | TRUE | FALSE | Male   | 67 | ⋯ | 61 | NA   | NA | NA | ,,,,  | 40 | NA   | 24.22145 |  6000 |  NA |\n",
       "| 2 | 01 | 03 | 02 | 1 | TRUE | TRUE | TRUE | FALSE | Male   | 47 | ⋯ |  9 | TRUE | NA | NA | 1,,,, |  0 | TRUE | 26.29758 |  6000 |  NA |\n",
       "| 3 | 01 | 03 | 03 | 1 | TRUE | TRUE | TRUE | FALSE | Male   | 66 | ⋯ |  9 | TRUE | NA | NA | 1,,,, | 16 | TRUE | 27.75510 |  6000 |  NA |\n",
       "| 4 | 01 | 03 | 04 | 1 | TRUE | TRUE | TRUE | FALSE | Male   | 65 | ⋯ | 14 | TRUE | NA | NA | 1,,,, |  0 | TRUE | 29.41176 |  6000 |  NA |\n",
       "| 5 | 01 | 03 | 05 | 1 | TRUE | TRUE | TRUE | FALSE | Female | 63 | ⋯ | 40 | NA   | 53 | NA | ,,,,  |  9 | NA   | 23.87511 |  6000 |  NA |\n",
       "| 6 | 01 | 06 | 01 | 1 | TRUE | TRUE | TRUE | FALSE | Female | 84 | ⋯ | NA | NA   | NA | NA | ,,,,  | NA | NA   | 24.24242 | 12000 | 125 |\n",
       "\n"
      ],
      "text/plain": [
       "  NEW_COUNTRY_ID NEW_SITE_ID NEW_SUBJECT_ID Iteration INC_CRIT1_YN INC_CRIT2_YN\n",
       "1 01             03          01             1         TRUE         TRUE        \n",
       "2 01             03          02             1         TRUE         TRUE        \n",
       "3 01             03          03             1         TRUE         TRUE        \n",
       "4 01             03          04             1         TRUE         TRUE        \n",
       "5 01             03          05             1         TRUE         TRUE        \n",
       "6 01             06          01             1         TRUE         TRUE        \n",
       "  INC_CRIT3_YN INC_CRIT4_YN INC_SEX_RAD INC_AGE_INT ⋯ OUT_ICU_DURATION_INT\n",
       "1 TRUE         FALSE        Male        67          ⋯ 61                  \n",
       "2 TRUE         FALSE        Male        47          ⋯  9                  \n",
       "3 TRUE         FALSE        Male        66          ⋯  9                  \n",
       "4 TRUE         FALSE        Male        65          ⋯ 14                  \n",
       "5 TRUE         FALSE        Female      63          ⋯ 40                  \n",
       "6 TRUE         FALSE        Female      84          ⋯ NA                  \n",
       "  OUT_DEAD_DURING_ICU_YN OUT_HOSP_DURATION_INT OUT_DISCHARGE_RRT_YN\n",
       "1 NA                     NA                    NA                  \n",
       "2 TRUE                   NA                    NA                  \n",
       "3 TRUE                   NA                    NA                  \n",
       "4 TRUE                   NA                    NA                  \n",
       "5 NA                     53                    NA                  \n",
       "6 NA                     NA                    NA                  \n",
       "  OUT_DEATH_DURING_ICU_YN.... INF_WITHOUT_ANTIMIC_INT OUT_DEATH_DURING_ICU_YN\n",
       "1 ,,,,                        40                      NA                     \n",
       "2 1,,,,                        0                      TRUE                   \n",
       "3 1,,,,                       16                      TRUE                   \n",
       "4 1,,,,                        0                      TRUE                   \n",
       "5 ,,,,                         9                      NA                     \n",
       "6 ,,,,                        NA                      NA                     \n",
       "  NEW_BMI  NEW_COAG_DVT_DAILY_DOSE NEW_COAG_ANTIPLAT_DAILY_DOSE\n",
       "1 24.22145  6000                    NA                         \n",
       "2 26.29758  6000                    NA                         \n",
       "3 27.75510  6000                    NA                         \n",
       "4 29.41176  6000                    NA                         \n",
       "5 23.87511  6000                    NA                         \n",
       "6 24.24242 12000                   125                         "
      ]
     },
     "metadata": {},
     "output_type": "display_data"
    }
   ],
   "source": [
    "head(data.df)"
   ]
  },
  {
   "cell_type": "code",
   "execution_count": null,
   "metadata": {},
   "outputs": [],
   "source": []
  }
 ],
 "metadata": {
  "colab": {
   "collapsed_sections": [],
   "name": "UNITE_COVID_R.ipynb",
   "provenance": []
  },
  "kernelspec": {
   "display_name": "R",
   "language": "R",
   "name": "ir"
  },
  "language_info": {
   "codemirror_mode": "r",
   "file_extension": ".r",
   "mimetype": "text/x-r-source",
   "name": "R",
   "pygments_lexer": "r",
   "version": "4.1.1"
  }
 },
 "nbformat": 4,
 "nbformat_minor": 1
}
